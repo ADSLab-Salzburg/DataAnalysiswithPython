{
 "cells": [
  {
   "cell_type": "markdown",
   "metadata": {
    "nbgrader": {
     "grade": false,
     "grade_id": "cell-d45ef257442d3d68",
     "locked": true,
     "schema_version": 3,
     "solution": false,
     "task": false
    },
    "slideshow": {
     "slide_type": "slide"
    }
   },
   "source": [
    "# matplotlib and seaborn"
   ]
  },
  {
   "cell_type": "code",
   "execution_count": null,
   "metadata": {
    "nbgrader": {
     "grade": false,
     "grade_id": "cell-91d3e2a93fea38dc",
     "locked": true,
     "schema_version": 3,
     "solution": false,
     "task": false
    },
    "slideshow": {
     "slide_type": "skip"
    }
   },
   "outputs": [],
   "source": [
    "import pip\n",
    "!pip install numpy matplotlib seaborn"
   ]
  },
  {
   "cell_type": "markdown",
   "metadata": {
    "nbgrader": {
     "grade": false,
     "grade_id": "cell-c8bdf72605463fe8",
     "locked": true,
     "schema_version": 3,
     "solution": false,
     "task": false
    },
    "slideshow": {
     "slide_type": "slide"
    }
   },
   "source": [
    "## Comparison\n",
    "**matplotlib** is the standard Python plotting library. **seaborn** is based on matplotlib and provides a more high-level interface, different styles and interfaces nicely with pandas dataframes.\n",
    "\n",
    "Take a look at how the two libraries render a standard histogram:"
   ]
  },
  {
   "cell_type": "code",
   "execution_count": null,
   "metadata": {
    "nbgrader": {
     "grade": false,
     "grade_id": "cell-cd2f13839203d2b5",
     "locked": true,
     "schema_version": 3,
     "solution": false,
     "task": false
    },
    "slideshow": {
     "slide_type": "fragment"
    }
   },
   "outputs": [],
   "source": [
    "import numpy as np\n",
    "x = np.random.randn(100)\n",
    "x[:10]"
   ]
  },
  {
   "cell_type": "markdown",
   "metadata": {
    "nbgrader": {
     "grade": false,
     "grade_id": "cell-fb6dd675b22e9e32",
     "locked": true,
     "schema_version": 3,
     "solution": false,
     "task": false
    },
    "slideshow": {
     "slide_type": "subslide"
    }
   },
   "source": [
    "### Matplotlib\n",
    "![Matplotlib logo](https://matplotlib.org/_static/logo2_compressed.svg)"
   ]
  },
  {
   "cell_type": "code",
   "execution_count": null,
   "metadata": {
    "nbgrader": {
     "grade": false,
     "grade_id": "cell-95fb5a6f7cdf56ac",
     "locked": true,
     "schema_version": 3,
     "solution": false,
     "task": false
    },
    "slideshow": {
     "slide_type": "fragment"
    }
   },
   "outputs": [],
   "source": [
    "import matplotlib.pyplot as plt\n",
    "plt.hist(x)\n",
    "plt.show()"
   ]
  },
  {
   "cell_type": "markdown",
   "metadata": {
    "nbgrader": {
     "grade": false,
     "grade_id": "cell-5b2817cc812b3694",
     "locked": true,
     "schema_version": 3,
     "solution": false,
     "task": false
    },
    "slideshow": {
     "slide_type": "subslide"
    }
   },
   "source": [
    "### Seaborn\n",
    "![Seaborn logo](https://seaborn.pydata.org/_static/logo-wide-lightbg.svg)"
   ]
  },
  {
   "cell_type": "code",
   "execution_count": null,
   "metadata": {
    "nbgrader": {
     "grade": false,
     "grade_id": "cell-838be9944cc6c1f6",
     "locked": true,
     "schema_version": 3,
     "solution": false,
     "task": false
    },
    "slideshow": {
     "slide_type": "fragment"
    }
   },
   "outputs": [],
   "source": [
    "import seaborn as sns\n",
    "sns.distplot(x)\n",
    "plt.show()"
   ]
  },
  {
   "cell_type": "markdown",
   "metadata": {
    "nbgrader": {
     "grade": false,
     "grade_id": "cell-7b7b7cedf8d74b44",
     "locked": true,
     "schema_version": 3,
     "solution": false,
     "task": false
    },
    "slideshow": {
     "slide_type": "slide"
    }
   },
   "source": [
    "## Visualization 101"
   ]
  },
  {
   "cell_type": "markdown",
   "metadata": {
    "nbgrader": {
     "grade": false,
     "grade_id": "cell-6f62dec39991426f",
     "locked": true,
     "schema_version": 3,
     "solution": false,
     "task": false
    },
    "slideshow": {
     "slide_type": "subslide"
    }
   },
   "source": [
    "### Data Types\n",
    "Choosing the right plot type also depends on the type of the data to visualize."
   ]
  },
  {
   "cell_type": "markdown",
   "metadata": {
    "nbgrader": {
     "grade": false,
     "grade_id": "cell-6dc02d868c2b5bbc",
     "locked": true,
     "schema_version": 3,
     "solution": false,
     "task": false
    },
    "slideshow": {
     "slide_type": "subslide"
    }
   },
   "source": [
    "#### Quantitative Data\n",
    "- **Continuous**: time, height, weight, temperature, speed, volume, price, power consumption $\\rightarrow$ **measureable**\n",
    "- **Discrete**: units sold, shoe size, quantities (e.g. number of languages spoken/emails received/workers/orders) $\\rightarrow$ **countable**"
   ]
  },
  {
   "cell_type": "markdown",
   "metadata": {
    "nbgrader": {
     "grade": false,
     "grade_id": "cell-9e6cfb8ee9bdc400",
     "locked": true,
     "schema_version": 3,
     "solution": false,
     "task": false
    },
    "slideshow": {
     "slide_type": "subslide"
    }
   },
   "source": [
    "#### Qualitative Data\n",
    "- **Categorical/Nominal**: gender, hair color, country, languages, dog breed $\\rightarrow$ cannot be arranged in any particular order\n",
    "- **Ordinal**: rankings, school grades, income categories, pain scale $\\rightarrow$ can be arranged in order"
   ]
  },
  {
   "cell_type": "markdown",
   "metadata": {
    "nbgrader": {
     "grade": false,
     "grade_id": "cell-d5167e0efcd5de85",
     "locked": true,
     "schema_version": 3,
     "solution": false,
     "task": false
    },
    "slideshow": {
     "slide_type": "subslide"
    }
   },
   "source": [
    "![Qualitative vs. Quantitative Data](https://i2.wp.com/intellspot.com/wp-content/uploads/2018/03/qualitative-and-quantitative-data-a-short-infographic.png?resize=680%2C363)"
   ]
  },
  {
   "cell_type": "markdown",
   "metadata": {
    "nbgrader": {
     "grade": false,
     "grade_id": "cell-80da4a8f996b3c78",
     "locked": true,
     "schema_version": 3,
     "solution": false,
     "task": false
    },
    "slideshow": {
     "slide_type": "subslide"
    }
   },
   "source": [
    "### Visual Encodings\n",
    "How can we map from data to display elements?"
   ]
  },
  {
   "cell_type": "markdown",
   "metadata": {
    "nbgrader": {
     "grade": false,
     "grade_id": "cell-ebdd4381bd7385a1",
     "locked": true,
     "schema_version": 3,
     "solution": false,
     "task": false
    },
    "slideshow": {
     "slide_type": "subslide"
    }
   },
   "source": [
    "#### Position\n",
    "The intersection of a point on the x- and y-axis indicates a data point's **position**. It's the most common visual encoding, but can only encode two variables (at least three). "
   ]
  },
  {
   "cell_type": "markdown",
   "metadata": {
    "nbgrader": {
     "grade": false,
     "grade_id": "cell-6da68ad19bf08309",
     "locked": true,
     "schema_version": 3,
     "solution": false,
     "task": false
    },
    "slideshow": {
     "slide_type": "subslide"
    }
   },
   "source": [
    "#### Retinal Variables\n",
    "- Size\n",
    "- Color (Hue, Saturation)\n",
    "- Shape\n",
    "- Texture\n",
    "- Orientation\n",
    "- Line (Width, Type)"
   ]
  },
  {
   "cell_type": "markdown",
   "metadata": {
    "nbgrader": {
     "grade": false,
     "grade_id": "cell-5923e8180b100df6",
     "locked": true,
     "schema_version": 3,
     "solution": false,
     "task": false
    },
    "slideshow": {
     "slide_type": "subslide"
    }
   },
   "source": [
    "![Visual Encodings](https://images.squarespace-cdn.com/content/v1/5879aba73a0411c5027d77c9/1529320974623-SMYWQDSSE8VDAHOIK85R/ke17ZwdGBToddI8pDm48kH23KVWagbNOYpajbj_MQLNZw-zPPgdn4jUwVcJE1ZvWQUxwkmyExglNqGp0IvTJZamWLI2zvYWH8K3-s_4yszcp2ryTI0HqTOaaUohrI8PIJtg7yny0RBSV5PxpX1XPrwAROGqRUCBAuccPtaePpQsKMshLAGzx4R3EDFOm1kBS/image-asset.jpeg?format=1000w)"
   ]
  },
  {
   "cell_type": "markdown",
   "metadata": {
    "nbgrader": {
     "grade": false,
     "grade_id": "cell-86fd9b809b916821",
     "locked": true,
     "schema_version": 3,
     "solution": false,
     "task": false
    },
    "slideshow": {
     "slide_type": "subslide"
    }
   },
   "source": [
    "![Visual Encodings](https://clauswilke.com/dataviz/aesthetic_mapping_files/figure-html/common-aesthetics-1.png)"
   ]
  },
  {
   "cell_type": "markdown",
   "metadata": {
    "nbgrader": {
     "grade": false,
     "grade_id": "cell-b223f870a55db904",
     "locked": true,
     "schema_version": 3,
     "solution": false,
     "task": false
    },
    "slideshow": {
     "slide_type": "slide"
    }
   },
   "source": [
    "## Parts of a Figure\n",
    "Most of the upcoming terminology might be straightforward. Note the difference between ``Figure`` and ``Axes``. The ``Figure`` is the final image and contains one or more ``Axes``. An ``Axes`` is one actual plot. ``Axis`` means something different and refers to the dimension in the plot and define the limits, ranges and ticks."
   ]
  },
  {
   "cell_type": "markdown",
   "metadata": {
    "nbgrader": {
     "grade": false,
     "grade_id": "cell-ff9017b1a164debc",
     "locked": true,
     "schema_version": 3,
     "solution": false,
     "task": false
    },
    "slideshow": {
     "slide_type": "subslide"
    }
   },
   "source": [
    "![Anatomy of a Figure](https://matplotlib.org/_images/anatomy1.png)"
   ]
  },
  {
   "cell_type": "markdown",
   "metadata": {
    "nbgrader": {
     "grade": false,
     "grade_id": "cell-1a8fb8f67bce96dd",
     "locked": true,
     "schema_version": 3,
     "solution": false,
     "task": false
    },
    "slideshow": {
     "slide_type": "slide"
    }
   },
   "source": [
    "## An Example"
   ]
  },
  {
   "cell_type": "markdown",
   "metadata": {
    "nbgrader": {
     "grade": false,
     "grade_id": "cell-663c0b540fbfe976",
     "locked": true,
     "schema_version": 3,
     "solution": false,
     "task": false
    },
    "slideshow": {
     "slide_type": "subslide"
    }
   },
   "source": [
    "![Car Types](https://www.smartmotorist.com/wp-content/uploads/2019/01/types-of-cars-e1560223698227.png)"
   ]
  },
  {
   "cell_type": "markdown",
   "metadata": {
    "nbgrader": {
     "grade": false,
     "grade_id": "cell-3df47a4527e36a8d",
     "locked": true,
     "schema_version": 3,
     "solution": false,
     "task": false
    },
    "slideshow": {
     "slide_type": "subslide"
    }
   },
   "source": [
    "### Importing Libraries and Data Loading"
   ]
  },
  {
   "cell_type": "code",
   "execution_count": null,
   "metadata": {
    "nbgrader": {
     "grade": false,
     "grade_id": "cell-3052a80b259cc449",
     "locked": true,
     "schema_version": 3,
     "solution": false,
     "task": false
    },
    "slideshow": {
     "slide_type": "fragment"
    }
   },
   "outputs": [],
   "source": [
    "import pandas as pd\n",
    "import matplotlib.pyplot as plt\n",
    "# use matplotlib in jupyter notebook\n",
    "%matplotlib inline  \n",
    "import seaborn as sns\n",
    "\n",
    "df = pd.read_csv('Automobile_data.csv', index_col=0)\n",
    "df.head()"
   ]
  },
  {
   "cell_type": "markdown",
   "metadata": {
    "nbgrader": {
     "grade": false,
     "grade_id": "cell-8d760b22d920ae83",
     "locked": true,
     "schema_version": 3,
     "solution": false,
     "task": false
    },
    "slideshow": {
     "slide_type": "subslide"
    }
   },
   "source": [
    "### Data Types\n",
    "Which of the columns contain qualitative (categorical, ordinal) or quantitative (continuous or discrete) data?"
   ]
  },
  {
   "cell_type": "code",
   "execution_count": null,
   "metadata": {
    "nbgrader": {
     "grade": false,
     "grade_id": "cell-407899cc3308934c",
     "locked": true,
     "schema_version": 3,
     "solution": false,
     "task": false
    },
    "slideshow": {
     "slide_type": "fragment"
    }
   },
   "outputs": [],
   "source": [
    "df.head()"
   ]
  },
  {
   "cell_type": "markdown",
   "metadata": {
    "nbgrader": {
     "grade": false,
     "grade_id": "cell-4e2df9adfb4fcc4c",
     "locked": true,
     "schema_version": 3,
     "solution": false,
     "task": false
    },
    "slideshow": {
     "slide_type": "subslide"
    }
   },
   "source": [
    "### Seaborn's Plotting Functions\n",
    "There are two ways to create a plot in seaborn:\n",
    "1. (recommended) Pass a ``DataFrame`` to the ``data`` argument, while passing column names to the axes arguments, ``x`` and ``y``.\n",
    "2. Directly pass in ``Series`` of data to the axes arguments.\n"
   ]
  },
  {
   "cell_type": "markdown",
   "metadata": {
    "nbgrader": {
     "grade": false,
     "grade_id": "cell-7810e9b1b9cc98f9",
     "locked": true,
     "schema_version": 3,
     "solution": false,
     "task": false
    },
    "slideshow": {
     "slide_type": "subslide"
    }
   },
   "source": [
    "### Scatter Plot\n",
    "Seaborn provides a [``scatterplot()``](http://seaborn.pydata.org/generated/seaborn.scatterplot.html#seaborn.scatterplot) function."
   ]
  },
  {
   "cell_type": "code",
   "execution_count": null,
   "metadata": {
    "nbgrader": {
     "grade": false,
     "grade_id": "cell-daaaf108fdd0b232",
     "locked": true,
     "schema_version": 3,
     "solution": false,
     "task": false
    },
    "slideshow": {
     "slide_type": "fragment"
    }
   },
   "outputs": [],
   "source": [
    "sns.scatterplot(x='price', y='horsepower', data=df)\n",
    "plt.show()"
   ]
  },
  {
   "cell_type": "code",
   "execution_count": null,
   "metadata": {
    "nbgrader": {
     "grade": false,
     "grade_id": "cell-562ff4024ad7ecb1",
     "locked": true,
     "schema_version": 3,
     "solution": false,
     "task": false
    },
    "slideshow": {
     "slide_type": "subslide"
    }
   },
   "outputs": [],
   "source": [
    "sns.scatterplot(x='price', y='horsepower', data=df,\n",
    "                hue='body-style')  # color by body style\n",
    "plt.show()"
   ]
  },
  {
   "cell_type": "code",
   "execution_count": null,
   "metadata": {
    "nbgrader": {
     "grade": false,
     "grade_id": "cell-b00a3e137ec4b26d",
     "locked": true,
     "schema_version": 3,
     "solution": false,
     "task": false
    },
    "slideshow": {
     "slide_type": "subslide"
    }
   },
   "outputs": [],
   "source": [
    "sns.scatterplot(x='price', y='horsepower', data=df,\n",
    "                hue='body-style',\n",
    "                style='body-style')  # change marker style according to body style\n",
    "plt.show()"
   ]
  },
  {
   "cell_type": "markdown",
   "metadata": {
    "nbgrader": {
     "grade": false,
     "grade_id": "cell-61185496d42902e9",
     "locked": true,
     "schema_version": 3,
     "solution": false,
     "task": false
    },
    "slideshow": {
     "slide_type": "subslide"
    }
   },
   "source": [
    "### Customization with Matplotlib\n",
    "seaborn is a high-level interface to matplotlib. Some low-level functionality is still handled in matplotlib only:"
   ]
  },
  {
   "cell_type": "markdown",
   "metadata": {
    "nbgrader": {
     "grade": false,
     "grade_id": "cell-67075179e692d23b",
     "locked": true,
     "schema_version": 3,
     "solution": false,
     "task": false
    },
    "slideshow": {
     "slide_type": "subslide"
    }
   },
   "source": [
    "#### Setting axis limits"
   ]
  },
  {
   "cell_type": "code",
   "execution_count": null,
   "metadata": {
    "nbgrader": {
     "grade": false,
     "grade_id": "cell-9e1536ff0fc85a8e",
     "locked": true,
     "schema_version": 3,
     "solution": false,
     "task": false
    },
    "slideshow": {
     "slide_type": "fragment"
    }
   },
   "outputs": [],
   "source": [
    "sns.scatterplot(x='price', y='horsepower', data=df,\n",
    "                hue='body-style', style='body-style')\n",
    "plt.xlim(0, 50000)\n",
    "plt.ylim(0, 300)\n",
    "plt.show()"
   ]
  },
  {
   "cell_type": "markdown",
   "metadata": {
    "nbgrader": {
     "grade": false,
     "grade_id": "cell-1e3aa270fd69cdd3",
     "locked": true,
     "schema_version": 3,
     "solution": false,
     "task": false
    },
    "slideshow": {
     "slide_type": "subslide"
    }
   },
   "source": [
    "#### Defining a title"
   ]
  },
  {
   "cell_type": "code",
   "execution_count": null,
   "metadata": {
    "nbgrader": {
     "grade": false,
     "grade_id": "cell-9d1624cba06ffd4a",
     "locked": true,
     "schema_version": 3,
     "solution": false,
     "task": false
    },
    "slideshow": {
     "slide_type": "fragment"
    }
   },
   "outputs": [],
   "source": [
    "sns.scatterplot(x='price', y='horsepower', data=df,\n",
    "                hue='body-style', style='body-style')\n",
    "plt.xlim(0, 50000)\n",
    "plt.ylim(0, 300)\n",
    "\n",
    "plt.title('Correlation of Horsepower and Price for Different Vehicle Types')\n",
    "\n",
    "plt.show()"
   ]
  },
  {
   "cell_type": "markdown",
   "metadata": {
    "nbgrader": {
     "grade": false,
     "grade_id": "cell-aaec8bf624d03ed4",
     "locked": true,
     "schema_version": 3,
     "solution": false,
     "task": false
    },
    "slideshow": {
     "slide_type": "subslide"
    }
   },
   "source": [
    "#### Legend position"
   ]
  },
  {
   "cell_type": "code",
   "execution_count": null,
   "metadata": {
    "nbgrader": {
     "grade": false,
     "grade_id": "cell-0c12d1d3a6fe54c4",
     "locked": true,
     "schema_version": 3,
     "solution": false,
     "task": false
    },
    "slideshow": {
     "slide_type": "fragment"
    }
   },
   "outputs": [],
   "source": [
    "sns.scatterplot(x='price', y='horsepower', data=df,\n",
    "                hue='body-style', style='body-style')\n",
    "plt.xlim(0, 50000)\n",
    "plt.ylim(0, 300)\n",
    "plt.title('Correlation of Horsepower and Price for Different Vehicle Types')\n",
    "\n",
    "plt.legend(loc='lower right')  # vs. 'best'\n",
    "\n",
    "plt.show()"
   ]
  },
  {
   "cell_type": "markdown",
   "metadata": {
    "nbgrader": {
     "grade": false,
     "grade_id": "cell-e8bd5db4ec515e41",
     "locked": true,
     "schema_version": 3,
     "solution": false,
     "task": false
    },
    "slideshow": {
     "slide_type": "subslide"
    }
   },
   "source": [
    "#### x-Label rotation"
   ]
  },
  {
   "cell_type": "code",
   "execution_count": null,
   "metadata": {
    "nbgrader": {
     "grade": false,
     "grade_id": "cell-73d625af158a9397",
     "locked": true,
     "schema_version": 3,
     "solution": false,
     "task": false
    }
   },
   "outputs": [],
   "source": [
    "sns.scatterplot(x='price', y='horsepower', data=df,\n",
    "                hue='body-style', style='body-style')\n",
    "plt.xlim(0, 50000)\n",
    "plt.ylim(0, 300)\n",
    "plt.title('Correlation of Horsepower and Price for Different Vehicle Types')\n",
    "plt.legend(loc='lower right')\n",
    "\n",
    "plt.xticks(rotation=45)  # rotate x-labels by 45 degrees\n",
    "\n",
    "plt.show()"
   ]
  },
  {
   "cell_type": "markdown",
   "metadata": {
    "nbgrader": {
     "grade": false,
     "grade_id": "cell-72b625415d06b508",
     "locked": true,
     "schema_version": 3,
     "solution": false,
     "task": false
    },
    "slideshow": {
     "slide_type": "subslide"
    }
   },
   "source": [
    "### Seaborn themes\n",
    "Another advantage of Seaborn is that it comes with decent style themes right out of the box. The default theme is called 'darkgrid'. We'll now use 'whitegrid' instead to plot the distribution of selected car companies' prices."
   ]
  },
  {
   "cell_type": "code",
   "execution_count": null,
   "metadata": {
    "nbgrader": {
     "grade": false,
     "grade_id": "cell-09316049f668f02b",
     "locked": true,
     "schema_version": 3,
     "solution": false,
     "task": false
    },
    "slideshow": {
     "slide_type": "fragment"
    }
   },
   "outputs": [],
   "source": [
    "# Choose data\n",
    "df_company = df.loc[df['company'].str.contains(\"volkswagen|audi|jaguar|chevrolet|toyota|alfa-romero\"), :]\n",
    "\n",
    "# Set theme\n",
    "sns.set_style('whitegrid')\n",
    "\n",
    "# Boxplot\n",
    "sns.boxplot(x='company', y='price', data=df_company)\n",
    "plt.xticks(rotation=45)\n",
    "plt.title('Companies\\' Price Distribution')\n",
    "plt.show()"
   ]
  },
  {
   "cell_type": "markdown",
   "metadata": {
    "nbgrader": {
     "grade": false,
     "grade_id": "cell-693175c9a82b9991",
     "locked": true,
     "schema_version": 3,
     "solution": false,
     "task": false
    },
    "slideshow": {
     "slide_type": "subslide"
    }
   },
   "source": [
    "### Seaborn color palettes\n",
    "Different countries (and their car manufacturerers) are historically aligned with typical colors. We can define color palettes on our own by creating an ordered list of hex values (same order as x-axis). We also change the plot type to ``violin`` as this type also displays the data distribution instead of only the summary statistics:\n"
   ]
  },
  {
   "cell_type": "code",
   "execution_count": null,
   "metadata": {
    "nbgrader": {
     "grade": false,
     "grade_id": "cell-c7c29ef3885d3436",
     "locked": true,
     "schema_version": 3,
     "solution": false,
     "task": false
    },
    "slideshow": {
     "slide_type": "fragment"
    }
   },
   "outputs": [],
   "source": [
    "# Define color palette\n",
    "car_colors = ['#FF0000',  # red for Italian cars\n",
    "              '#C0C0C0',  # silver for German cars\n",
    "              '#000099',  # imperial blue for American cars\n",
    "              '#005500',  # green for British cars\n",
    "              '#C0C0C0',\n",
    "              '#333333',  # black for Japanese cars (not too black as we still want to see some information)\n",
    "              '#C0C0C0']\n",
    "# Violin plot\n",
    "sns.violinplot(x='company', y='price', data=df_company, palette=car_colors, scale='count')\n",
    "plt.xticks(rotation=45)\n",
    "plt.title('Companies\\' Price Distribution')\n",
    "plt.show()"
   ]
  },
  {
   "cell_type": "markdown",
   "metadata": {
    "nbgrader": {
     "grade": false,
     "grade_id": "cell-54d07827f505ae53",
     "locked": true,
     "schema_version": 3,
     "solution": false,
     "task": false
    },
    "slideshow": {
     "slide_type": "subslide"
    }
   },
   "source": [
    "As we can't see too much here, we change the plot type once again to ``swarmplot`` to see the individual data points:"
   ]
  },
  {
   "cell_type": "code",
   "execution_count": null,
   "metadata": {
    "nbgrader": {
     "grade": false,
     "grade_id": "cell-12ef8386d6627247",
     "locked": true,
     "schema_version": 3,
     "solution": false,
     "task": false
    },
    "slideshow": {
     "slide_type": "fragment"
    }
   },
   "outputs": [],
   "source": [
    "# Swarm plot\n",
    "sns.swarmplot(x='company', y='price', data=df_company, palette=car_colors)\n",
    "plt.xticks(rotation=45)\n",
    "plt.title('Companies\\' Price Distribution')\n",
    "plt.show()"
   ]
  },
  {
   "cell_type": "markdown",
   "metadata": {
    "nbgrader": {
     "grade": false,
     "grade_id": "cell-9d67f151f2731bda",
     "locked": true,
     "schema_version": 3,
     "solution": false,
     "task": false
    },
    "slideshow": {
     "slide_type": "subslide"
    }
   },
   "source": [
    "### Combining Plots\n",
    "We can plot several plots in the same axes to overlay the information. "
   ]
  },
  {
   "cell_type": "code",
   "execution_count": null,
   "metadata": {
    "nbgrader": {
     "grade": false,
     "grade_id": "cell-218f955a76f004af",
     "locked": true,
     "schema_version": 3,
     "solution": false,
     "task": false
    },
    "slideshow": {
     "slide_type": "subslide"
    }
   },
   "outputs": [],
   "source": [
    "# Optional: Set figure size with matplotlib\n",
    "plt.figure(figsize=(10,6))\n",
    "# Violin plot\n",
    "sns.violinplot(x='company', y='price', data=df_company, palette=car_colors, scale='count')\n",
    "# Swarm plot\n",
    "sns.swarmplot(x='company', y='price', data=df_company, color='w')\n",
    "plt.xticks(rotation=45)\n",
    "plt.title('Companies\\' Price Distribution')\n",
    "plt.show()"
   ]
  },
  {
   "cell_type": "markdown",
   "metadata": {
    "nbgrader": {
     "grade": false,
     "grade_id": "cell-ef09329fb6eefe66",
     "locked": true,
     "schema_version": 3,
     "solution": false,
     "task": false
    },
    "slideshow": {
     "slide_type": "subslide"
    }
   },
   "source": [
    "## Aside: The Boxplot"
   ]
  },
  {
   "cell_type": "markdown",
   "metadata": {
    "nbgrader": {
     "grade": false,
     "grade_id": "cell-6ceb8d1e545f96ff",
     "locked": true,
     "schema_version": 3,
     "solution": false,
     "task": false
    },
    "slideshow": {
     "slide_type": "subslide"
    }
   },
   "source": [
    "![Boxplot infographic](https://www.infragistics.com/community/resized-image/__size/650x0/__key/communityserver-blogs-components-weblogfiles/tim_5F00_brock-Maria_5F00_Blogs-January_5F00_2016/5633.boxeg_4000_2x.png)"
   ]
  },
  {
   "cell_type": "code",
   "execution_count": null,
   "metadata": {
    "nbgrader": {
     "grade": false,
     "grade_id": "cell-22849512bd635c1b",
     "locked": true,
     "schema_version": 3,
     "solution": false,
     "task": false
    },
    "slideshow": {
     "slide_type": "subslide"
    }
   },
   "outputs": [],
   "source": [
    "df_hatchback = pd.DataFrame(df.loc[df['body-style'].str.contains('hatchback'), 'price'])\n",
    "sns.boxplot(data=df_hatchback)\n",
    "sns.swarmplot(data=df_hatchback, color='k', alpha=.7)\n",
    "plt.xticks([0], ['hatchback'])\n",
    "plt.title('Hatchback Prices')\n",
    "plt.show()"
   ]
  },
  {
   "cell_type": "code",
   "execution_count": null,
   "metadata": {
    "nbgrader": {
     "grade": false,
     "grade_id": "cell-c1d5a3b1f37c9e67",
     "locked": true,
     "schema_version": 3,
     "solution": false,
     "task": false
    },
    "slideshow": {
     "slide_type": "slide"
    }
   },
   "outputs": [],
   "source": [
    "from IPython.display import YouTubeVideo\n",
    "YouTubeVideo('jbkSRLYSojo')"
   ]
  },
  {
   "cell_type": "markdown",
   "metadata": {
    "nbgrader": {
     "grade": false,
     "grade_id": "cell-efd2bdb84abe8b0d",
     "locked": true,
     "schema_version": 3,
     "solution": false,
     "task": false
    },
    "slideshow": {
     "slide_type": "slide"
    }
   },
   "source": [
    "## Wrap-up Exercise\n",
    "Browse the [seaborn API reference](http://seaborn.pydata.org/api.html) or the [example gallery](https://seaborn.pydata.org/examples/index.html) and come up with your own visualization of the automobile data. I will take a look at it next time - no two graphs should/will look the same!"
   ]
  },
  {
   "cell_type": "code",
   "execution_count": null,
   "metadata": {
    "nbgrader": {
     "grade": true,
     "grade_id": "cell-86c22e2441e59bae",
     "locked": false,
     "points": 0,
     "schema_version": 3,
     "solution": true,
     "task": false
    },
    "slideshow": {
     "slide_type": "skip"
    }
   },
   "outputs": [],
   "source": []
  },
  {
   "cell_type": "markdown",
   "metadata": {},
   "source": [
    "## Do you know XKCD?\n",
    "![XKCD](https://imgs.xkcd.com/comics/python_environment.png)\n",
    "\n",
    "If you want to make a graph like that, google for `matplotlib` and `xkcd`."
   ]
  },
  {
   "cell_type": "markdown",
   "metadata": {
    "nbgrader": {
     "grade": false,
     "grade_id": "cell-9ae2c5bb7d0895e0",
     "locked": true,
     "schema_version": 3,
     "solution": false,
     "task": false
    },
    "slideshow": {
     "slide_type": "slide"
    }
   },
   "source": [
    "## Matplotlib, seaborn, pandas?\n",
    "If confused about how and when to use which framework, the following thoughts can guide you:\n",
    "1. Use pandas plotting utilities to get a first idea of what your data looks like.\n",
    "2. Use seaborn for advanced styling and for more complex graph types.\n",
    "3. Use the underlying matplotlib functionality to customize your plot."
   ]
  },
  {
   "cell_type": "markdown",
   "metadata": {
    "nbgrader": {
     "grade": false,
     "grade_id": "cell-73e8ac8307efa793",
     "locked": true,
     "schema_version": 3,
     "solution": false,
     "task": false
    },
    "slideshow": {
     "slide_type": "skip"
    }
   },
   "source": [
    "# Inspriation/Further Reading\n",
    "- [Blog post about Python visualizatoin tools](https://blog.magrathealabs.com/choosing-one-of-many-python-visualization-tools-7eb36fa5855f)\n",
    "- [matplotlib usage FAQ](https://matplotlib.org/faq/usage_faq.html)\n",
    "- [Data visualization blog post](https://erikcianci.com/blog/data-visualization-fundamentals#data-types)\n",
    "- [Python seaborn tutorial](https://elitedatascience.com/python-seaborn-tutorial)"
   ]
  }
 ],
 "metadata": {
  "celltoolbar": "Create Assignment",
  "kernelspec": {
   "display_name": "Python 3",
   "language": "python",
   "name": "python3"
  },
  "language_info": {
   "codemirror_mode": {
    "name": "ipython",
    "version": 3
   },
   "file_extension": ".py",
   "mimetype": "text/x-python",
   "name": "python",
   "nbconvert_exporter": "python",
   "pygments_lexer": "ipython3",
   "version": "3.8.5"
  }
 },
 "nbformat": 4,
 "nbformat_minor": 4
}
