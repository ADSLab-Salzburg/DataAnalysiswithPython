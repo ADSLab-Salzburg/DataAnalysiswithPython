{
 "cells": [
  {
   "cell_type": "markdown",
   "metadata": {
    "nbgrader": {
     "grade": false,
     "grade_id": "cell-e7d6d5be47f277ad",
     "locked": true,
     "schema_version": 3,
     "solution": false,
     "task": false
    },
    "slideshow": {
     "slide_type": "slide"
    }
   },
   "source": [
    "# Functions, Classes and Data Structures"
   ]
  },
  {
   "cell_type": "markdown",
   "metadata": {
    "nbgrader": {
     "grade": false,
     "grade_id": "cell-5b2598c531f4dfa9",
     "locked": true,
     "schema_version": 3,
     "solution": false,
     "task": false
    },
    "slideshow": {
     "slide_type": "skip"
    }
   },
   "source": [
    "## Table of Contents\n",
    "1. [Functions](#functions)\n",
    "1. [Classes](#classes)\n",
    "1. [Dictionaries](#dicts)\n",
    "1. [Sets](#sets)\n",
    "1. [List comprehension](#comprehension)\n",
    "1. [Exercise](#exercise)"
   ]
  },
  {
   "cell_type": "markdown",
   "metadata": {
    "nbgrader": {
     "grade": false,
     "grade_id": "cell-870ee96b945965af",
     "locked": true,
     "schema_version": 3,
     "solution": false,
     "task": false
    },
    "slideshow": {
     "slide_type": "slide"
    }
   },
   "source": [
    "<a name=\"functions\"></a>\n",
    "## Functions\n",
    "\n",
    "Functions in Python are defined using the block keyword ``def`` followed by the function's name. "
   ]
  },
  {
   "cell_type": "code",
   "execution_count": 2,
   "metadata": {
    "slideshow": {
     "slide_type": "fragment"
    }
   },
   "outputs": [],
   "source": [
    "def greeting_function():\n",
    "    print(\"Greetings from this function.\")"
   ]
  },
  {
   "cell_type": "markdown",
   "metadata": {
    "nbgrader": {
     "grade": false,
     "grade_id": "cell-8b567a0d56bf5058",
     "locked": true,
     "schema_version": 3,
     "solution": false,
     "task": false
    },
    "slideshow": {
     "slide_type": "subslide"
    }
   },
   "source": [
    "Naturally, Python functions can also take arguments and return values:"
   ]
  },
  {
   "cell_type": "code",
   "execution_count": 1,
   "metadata": {
    "slideshow": {
     "slide_type": "fragment"
    }
   },
   "outputs": [],
   "source": [
    "def sum_two_numbers(a, b):\n",
    "    print(f'The sum of {a} + {b} is {a + b}.')\n",
    "    return a + b"
   ]
  },
  {
   "cell_type": "markdown",
   "metadata": {
    "nbgrader": {
     "grade": false,
     "grade_id": "cell-bad2a110f4492a1c",
     "locked": true,
     "schema_version": 3,
     "solution": false,
     "task": false
    },
    "slideshow": {
     "slide_type": "subslide"
    }
   },
   "source": [
    "Now, let's call the functions"
   ]
  },
  {
   "cell_type": "code",
   "execution_count": 8,
   "metadata": {
    "scrolled": true,
    "slideshow": {
     "slide_type": "fragment"
    }
   },
   "outputs": [
    {
     "name": "stdout",
     "output_type": "stream",
     "text": [
      "Greetings from this function.\n",
      "The sum of 7 + 3 is 10.\n"
     ]
    }
   ],
   "source": [
    "greeting_function()\n",
    "result = sum_two_numbers(7,3)"
   ]
  },
  {
   "cell_type": "markdown",
   "metadata": {
    "nbgrader": {
     "grade": false,
     "grade_id": "cell-f8c91cc11282a4c0",
     "locked": true,
     "schema_version": 3,
     "solution": false,
     "task": false
    },
    "slideshow": {
     "slide_type": "fragment"
    }
   },
   "source": [
    "Note that all Python functions return some value. The return value is ``None`` if the return statement is omitted or the statement is just ``return``. It is also possible to return multiple values."
   ]
  },
  {
   "cell_type": "markdown",
   "metadata": {
    "nbgrader": {
     "grade": false,
     "grade_id": "cell-78eacad5d3d07b81",
     "locked": true,
     "schema_version": 3,
     "solution": false,
     "task": false
    },
    "slideshow": {
     "slide_type": "subslide"
    }
   },
   "source": [
    "### Default Arguments\n",
    "Python allows function arguments to have default values. If the function is called without the argument, the argument gets its default value. The default value is assigned by using assignment operator ``=``."
   ]
  },
  {
   "cell_type": "code",
   "execution_count": 3,
   "metadata": {
    "slideshow": {
     "slide_type": "fragment"
    }
   },
   "outputs": [
    {
     "name": "stdout",
     "output_type": "stream",
     "text": [
      "The sum of 3 + 5 is 8.\n",
      "8\n",
      "The sum of 3 + 7 is 10.\n",
      "10\n"
     ]
    }
   ],
   "source": [
    "def sum_two_numbers(a, b=5):\n",
    "    print(f'The sum of {a} + {b} is {a + b}.')\n",
    "    return a + b\n",
    "\n",
    "num_plus5 = sum_two_numbers(3)\n",
    "print(num_plus5)\n",
    "num_plus7 = sum_two_numbers(3, 7)\n",
    "print(num_plus7)"
   ]
  },
  {
   "cell_type": "markdown",
   "metadata": {
    "nbgrader": {
     "grade": false,
     "grade_id": "cell-2d1baf7cb668c811",
     "locked": true,
     "schema_version": 3,
     "solution": false,
     "task": false
    },
    "slideshow": {
     "slide_type": "subslide"
    }
   },
   "source": [
    "When using more than one default argument, it adds to readability when including the argument name in the function call:"
   ]
  },
  {
   "cell_type": "code",
   "execution_count": 4,
   "metadata": {
    "slideshow": {
     "slide_type": "fragment"
    }
   },
   "outputs": [
    {
     "data": {
      "text/plain": [
       "'how python handles multiple default arguments:'"
      ]
     },
     "execution_count": 4,
     "metadata": {},
     "output_type": "execute_result"
    }
   ],
   "source": [
    "def process_string(sentence, lowercase=False, split=False, strip=False):\n",
    "    if lowercase:\n",
    "        sentence = sentence.lower()\n",
    "    if strip:\n",
    "        sentence = sentence.strip()\n",
    "    if split:\n",
    "        sentence = sentence.split()\n",
    "    return sentence\n",
    "        \n",
    "process_string('   How Python handles multiple default arguments:    ', lowercase=True, strip=True)"
   ]
  },
  {
   "cell_type": "markdown",
   "metadata": {
    "nbgrader": {
     "grade": false,
     "grade_id": "cell-8448db6a00465230",
     "locked": true,
     "schema_version": 3,
     "solution": false,
     "task": false
    },
    "slideshow": {
     "slide_type": "slide"
    }
   },
   "source": [
    "<a name=\"classes\"></a>\n",
    "## Classes\n",
    "![Cars - The Film](https://static.kino.de/wp-content/gallery/cars-2006/cars-1-rcm950x0.jpg)"
   ]
  },
  {
   "cell_type": "markdown",
   "metadata": {
    "nbgrader": {
     "grade": false,
     "grade_id": "cell-efb7f250c451afea",
     "locked": true,
     "schema_version": 3,
     "solution": false,
     "task": false
    },
    "slideshow": {
     "slide_type": "subslide"
    }
   },
   "source": [
    "Objects are an encapsulation of variables and functions into a single entity. Objects get their variables and functions from classes. Classes are essentially a template to create your objects."
   ]
  },
  {
   "cell_type": "markdown",
   "metadata": {
    "nbgrader": {
     "grade": false,
     "grade_id": "cell-63ddc70b9a4c79d5",
     "locked": true,
     "schema_version": 3,
     "solution": false,
     "task": false
    },
    "slideshow": {
     "slide_type": "subslide"
    }
   },
   "source": [
    "This is an example for a basic class named ``Car`` with four class variables and a class function (= method). The last line instantiates a variable ``mcqueen`` that holds an object of type ``Car``:"
   ]
  },
  {
   "cell_type": "code",
   "execution_count": null,
   "metadata": {
    "slideshow": {
     "slide_type": "fragment"
    }
   },
   "outputs": [],
   "source": [
    "class Car:\n",
    "    name = \"\"\n",
    "    kind = \"\"\n",
    "    color = \"\"\n",
    "    value = 100000.00\n",
    "    \n",
    "    def description(self):\n",
    "        description_str = f\"{self.name} is a {self.color} {self.kind} worth {self.value:.2f} €.\"\n",
    "        return description_str\n",
    "    \n",
    "mcqueen = Car()"
   ]
  },
  {
   "cell_type": "markdown",
   "metadata": {
    "nbgrader": {
     "grade": false,
     "grade_id": "cell-ca86b6a0edf44845",
     "locked": true,
     "schema_version": 3,
     "solution": false,
     "task": false
    },
    "slideshow": {
     "slide_type": "subslide"
    }
   },
   "source": [
    "Set the values of variable ``mcqueen`` and call the object's function:"
   ]
  },
  {
   "cell_type": "code",
   "execution_count": null,
   "metadata": {
    "slideshow": {
     "slide_type": "fragment"
    }
   },
   "outputs": [],
   "source": [
    "mcqueen.name = \"Lightning McQueen\"\n",
    "mcqueen.color = \"red\"\n",
    "mcqueen.kind = \"Corvette\"\n",
    "\n",
    "mcqueen_descr = mcqueen.description()\n",
    "print(mcqueen_descr)"
   ]
  },
  {
   "cell_type": "markdown",
   "metadata": {
    "nbgrader": {
     "grade": false,
     "grade_id": "cell-4e403c8af08a700c",
     "locked": true,
     "schema_version": 3,
     "solution": false,
     "task": false
    },
    "slideshow": {
     "slide_type": "subslide"
    }
   },
   "source": [
    "### `__init__()`\n",
    "\n",
    "The example above is a class and object in their simplest form as they are rarely used in real life applications. All Python classes have a built-in method called ``__init__()``, which is always executed automatically when the class is being initiated. The ``__init__()`` method is used to assign values to object properties, or other operations that are necessary to do when the object is being created:"
   ]
  },
  {
   "cell_type": "code",
   "execution_count": 5,
   "metadata": {
    "scrolled": true,
    "slideshow": {
     "slide_type": "subslide"
    }
   },
   "outputs": [
    {
     "name": "stdout",
     "output_type": "stream",
     "text": [
      "Lightning McQueen is a red Corvette worth 100000.00 €.\n",
      "Lightning McQueen\n"
     ]
    }
   ],
   "source": [
    "class Car:\n",
    "    def __init__(self, name, kind, color):\n",
    "        self.name = name\n",
    "        self.kind = kind\n",
    "        self.color = color\n",
    "        self.value = 100000.00\n",
    "    \n",
    "    def description(self):\n",
    "        description_str = f\"{self.name} is a {self.color} {self.kind} worth {self.value:.2f} €.\"\n",
    "        return description_str\n",
    "    \n",
    "mcqueen = Car('Lightning McQueen', 'Corvette', 'red')\n",
    "print(mcqueen.description())\n",
    "print(mcqueen.name)"
   ]
  },
  {
   "cell_type": "markdown",
   "metadata": {
    "nbgrader": {
     "grade": false,
     "grade_id": "cell-442d08de7c5b66d8",
     "locked": true,
     "schema_version": 3,
     "solution": false,
     "task": false
    },
    "slideshow": {
     "slide_type": "subslide"
    }
   },
   "source": [
    "### The self Parameter\n",
    "The ``self`` parameter is a reference to the current instance of the class. It is used to access variables that belong to the class.\n",
    "\n",
    "It does not have to be named ``self``, but it has to be the first parameter of any function in the class."
   ]
  },
  {
   "cell_type": "markdown",
   "metadata": {
    "nbgrader": {
     "grade": false,
     "grade_id": "cell-5848083b5a2e8f49",
     "locked": true,
     "schema_version": 3,
     "solution": false,
     "task": false
    },
    "slideshow": {
     "slide_type": "subslide"
    }
   },
   "source": [
    "### Access modifiers\n",
    "\n",
    "There is not really a way to have the access modifiers implemented in a python class. A workaround is normaly used, where `private` members are named with a leading underscore `_`."
   ]
  },
  {
   "cell_type": "code",
   "execution_count": 8,
   "metadata": {
    "slideshow": {
     "slide_type": "fragment"
    }
   },
   "outputs": [],
   "source": [
    "class PrivateCar:\n",
    "    _name = \"\"\n",
    "    _kind = \"\"\n",
    "    _color = \"\"\n",
    "    _value = 100000.00\n",
    "\n",
    "privateMcQueen = PrivateCar()\n",
    "privateMcQueen._name = \"foo\"  # normaly would expect a violation here"
   ]
  },
  {
   "cell_type": "markdown",
   "metadata": {
    "nbgrader": {
     "grade": false,
     "grade_id": "cell-cd2d5a90cd29ca2c",
     "locked": true,
     "schema_version": 3,
     "solution": false,
     "task": false
    },
    "slideshow": {
     "slide_type": "subslide"
    }
   },
   "source": [
    "## Python Naming Conventions\n",
    "> - Function names should be all lower case\n",
    "> - Words in a function name should be separated by an underscore\n",
    "> - Class names should follow the UpperCaseCamelCase convention\n",
    "> - Python’s built-in classes, however, are typically lowercase words"
   ]
  },
  {
   "cell_type": "markdown",
   "metadata": {
    "nbgrader": {
     "grade": false,
     "grade_id": "cell-dd539a29695f05d4",
     "locked": true,
     "schema_version": 3,
     "solution": false,
     "task": false
    },
    "slideshow": {
     "slide_type": "slide"
    }
   },
   "source": [
    "<a name=\"dicts\"></a>\n",
    "## Dictionaries\n",
    "A dictionary is a data type similar to lists, but works with keys and values instead of indexes. Each value stored in a dictionary can be accessed using a key, which can be any type of object, instead of using its index. A dictionary is indicated by curly brackets ``{}``.\n",
    "![MLB logo](https://cdn.iconscout.com/icon/free/png-256/major-285385.png)"
   ]
  },
  {
   "cell_type": "markdown",
   "metadata": {
    "nbgrader": {
     "grade": false,
     "grade_id": "cell-b8eda0fd5da94f56",
     "locked": true,
     "schema_version": 3,
     "solution": false,
     "task": false
    },
    "slideshow": {
     "slide_type": "subslide"
    }
   },
   "source": [
    "Fill initially empty dictionary"
   ]
  },
  {
   "cell_type": "code",
   "execution_count": 10,
   "metadata": {
    "slideshow": {
     "slide_type": "fragment"
    }
   },
   "outputs": [
    {
     "name": "stdout",
     "output_type": "stream",
     "text": [
      "{'Colorado': 'Rockies', 'Boston': 'Red Sox', 'Minnesota': 'Twins', 'Milwaukee': 'Brewers', 'Seattle': 'Mariners'}\n"
     ]
    }
   ],
   "source": [
    "MLB_team = {}  # same as MLB = dict()\n",
    "MLB_team['Colorado'] = 'Rockies'\n",
    "MLB_team['Boston'] = 'Red Sox'\n",
    "MLB_team['Minnesota'] = 'Twins'\n",
    "MLB_team['Milwaukee'] = 'Brewers'\n",
    "MLB_team['Seattle'] = 'Mariners'\n",
    "print(MLB_team)"
   ]
  },
  {
   "cell_type": "markdown",
   "metadata": {
    "nbgrader": {
     "grade": false,
     "grade_id": "cell-2ba411b379ead036",
     "locked": true,
     "schema_version": 3,
     "solution": false,
     "task": false
    },
    "slideshow": {
     "slide_type": "fragment"
    }
   },
   "source": [
    "Directly fill dictionary with items (key:value - pairs)"
   ]
  },
  {
   "cell_type": "code",
   "execution_count": 1,
   "metadata": {
    "slideshow": {
     "slide_type": "fragment"
    }
   },
   "outputs": [
    {
     "name": "stdout",
     "output_type": "stream",
     "text": [
      "{'Colorado': 'Rockies', 'Boston': 'Red Sox', 'Minnesota': 'Twins', 'Milwaukee': 'Brewers', 'Seattle': 'Mariners'}\n"
     ]
    }
   ],
   "source": [
    "MLB_team = {\n",
    "    'Colorado': 'Rockies',\n",
    "    'Boston': 'Red Sox',\n",
    "    'Minnesota': 'Twins',\n",
    "    'Milwaukee': 'Brewers',\n",
    "    'Seattle': 'Mariners'\n",
    "}\n",
    "print(MLB_team)"
   ]
  },
  {
   "cell_type": "markdown",
   "metadata": {
    "nbgrader": {
     "grade": false,
     "grade_id": "cell-572bd908cb8ed0ae",
     "locked": true,
     "schema_version": 3,
     "solution": false,
     "task": false
    },
    "slideshow": {
     "slide_type": "subslide"
    }
   },
   "source": [
    "### Accessing Dictionary Values\n",
    "The dictionary entries are displayed in the order they were defined. But that is irrelevant when it comes to retrieving them. Dictionary elements are not accessed by numerical index:"
   ]
  },
  {
   "cell_type": "code",
   "execution_count": 2,
   "metadata": {
    "slideshow": {
     "slide_type": "fragment"
    }
   },
   "outputs": [
    {
     "ename": "KeyError",
     "evalue": "0",
     "output_type": "error",
     "traceback": [
      "\u001b[0;31m---------------------------------------------------------------------------\u001b[0m",
      "\u001b[0;31mKeyError\u001b[0m                                  Traceback (most recent call last)",
      "\u001b[0;32m<ipython-input-2-d4273e8c4baf>\u001b[0m in \u001b[0;36m<module>\u001b[0;34m\u001b[0m\n\u001b[0;32m----> 1\u001b[0;31m \u001b[0mMLB_team\u001b[0m\u001b[0;34m[\u001b[0m\u001b[0;36m0\u001b[0m\u001b[0;34m]\u001b[0m    \u001b[0;31m# this throws an exception\u001b[0m\u001b[0;34m\u001b[0m\u001b[0;34m\u001b[0m\u001b[0m\n\u001b[0m",
      "\u001b[0;31mKeyError\u001b[0m: 0"
     ]
    }
   ],
   "source": [
    "MLB_team[0]    # this throws an exception"
   ]
  },
  {
   "cell_type": "markdown",
   "metadata": {
    "nbgrader": {
     "grade": false,
     "grade_id": "cell-f31b6c13aafab225",
     "locked": true,
     "schema_version": 3,
     "solution": false,
     "task": false
    },
    "slideshow": {
     "slide_type": "subslide"
    }
   },
   "source": [
    "The same error is raised when trying to access an inexistent key:"
   ]
  },
  {
   "cell_type": "code",
   "execution_count": 12,
   "metadata": {
    "slideshow": {
     "slide_type": "fragment"
    }
   },
   "outputs": [
    {
     "ename": "KeyError",
     "evalue": "'Pittsburgh'",
     "output_type": "error",
     "traceback": [
      "\u001b[0;31m---------------------------------------------------------------------------\u001b[0m",
      "\u001b[0;31mKeyError\u001b[0m                                  Traceback (most recent call last)",
      "\u001b[0;32m<ipython-input-12-3f0377132c9d>\u001b[0m in \u001b[0;36m<module>\u001b[0;34m\u001b[0m\n\u001b[0;32m----> 1\u001b[0;31m \u001b[0mMLB_team\u001b[0m\u001b[0;34m[\u001b[0m\u001b[0;34m'Pittsburgh'\u001b[0m\u001b[0;34m]\u001b[0m\u001b[0;34m\u001b[0m\u001b[0;34m\u001b[0m\u001b[0m\n\u001b[0m",
      "\u001b[0;31mKeyError\u001b[0m: 'Pittsburgh'"
     ]
    }
   ],
   "source": [
    "MLB_team['Pittsburgh']"
   ]
  },
  {
   "cell_type": "markdown",
   "metadata": {
    "nbgrader": {
     "grade": false,
     "grade_id": "cell-d8a08d668635f2ff",
     "locked": true,
     "schema_version": 3,
     "solution": false,
     "task": false
    },
    "slideshow": {
     "slide_type": "subslide"
    }
   },
   "source": [
    "Access a dictionary's values using keys. This way, you can also update a given value or delete it."
   ]
  },
  {
   "cell_type": "code",
   "execution_count": 4,
   "metadata": {
    "slideshow": {
     "slide_type": "fragment"
    }
   },
   "outputs": [
    {
     "name": "stdout",
     "output_type": "stream",
     "text": [
      "Mariners\n"
     ]
    }
   ],
   "source": [
    "print(MLB_team['Seattle'])"
   ]
  },
  {
   "cell_type": "code",
   "execution_count": 5,
   "metadata": {
    "slideshow": {
     "slide_type": "fragment"
    }
   },
   "outputs": [
    {
     "name": "stdout",
     "output_type": "stream",
     "text": [
      "Pilots\n"
     ]
    }
   ],
   "source": [
    "MLB_team['Seattle'] = 'Pilots'\n",
    "print(MLB_team['Seattle'])"
   ]
  },
  {
   "cell_type": "code",
   "execution_count": 6,
   "metadata": {
    "slideshow": {
     "slide_type": "fragment"
    }
   },
   "outputs": [
    {
     "name": "stdout",
     "output_type": "stream",
     "text": [
      "{'Colorado': 'Rockies', 'Boston': 'Red Sox', 'Minnesota': 'Twins', 'Milwaukee': 'Brewers'}\n"
     ]
    }
   ],
   "source": [
    "del MLB_team['Seattle']  # or: MLB_team.pop('Seattle')\n",
    "print(MLB_team)"
   ]
  },
  {
   "cell_type": "markdown",
   "metadata": {
    "nbgrader": {
     "grade": false,
     "grade_id": "cell-8816b76b54aced19",
     "locked": true,
     "schema_version": 3,
     "solution": false,
     "task": false
    },
    "slideshow": {
     "slide_type": "subslide"
    }
   },
   "source": [
    "You can also iterate over all dictionary items:"
   ]
  },
  {
   "cell_type": "code",
   "execution_count": 14,
   "metadata": {
    "slideshow": {
     "slide_type": "fragment"
    }
   },
   "outputs": [
    {
     "name": "stdout",
     "output_type": "stream",
     "text": [
      "Colorado's team is called Rockies.\n",
      "Boston's team is called Red Sox.\n",
      "Minnesota's team is called Twins.\n",
      "Milwaukee's team is called Brewers.\n"
     ]
    }
   ],
   "source": [
    "for city, team in MLB_team.items():\n",
    "    print(f\"{city}'s team is called {team}.\")"
   ]
  },
  {
   "cell_type": "markdown",
   "metadata": {
    "nbgrader": {
     "grade": false,
     "grade_id": "cell-4c49c618b144f38d",
     "locked": true,
     "schema_version": 3,
     "solution": false,
     "task": false
    },
    "slideshow": {
     "slide_type": "subslide"
    }
   },
   "source": [
    "### Lists vs. Dictionaries\n",
    "1. Both are mutable.\n",
    "2. Both are dynamic. They can grow and shrink as needed.\n",
    "3. Both can be nested. A list can contain another list. A dictionary can contain another dictionary. A dictionary can also contain a list, and vice versa.\n",
    "4. List elements are accessed by their position via indexing.\n",
    "5. Dictionary elements are accessed via keys."
   ]
  },
  {
   "cell_type": "markdown",
   "metadata": {
    "nbgrader": {
     "grade": false,
     "grade_id": "cell-d34af5d41298d63b",
     "locked": true,
     "schema_version": 3,
     "solution": false,
     "task": false
    },
    "slideshow": {
     "slide_type": "slide"
    }
   },
   "source": [
    "<a name=\"sets\"></a>\n",
    "## Sets\n",
    "Simply put, sets are lists with no duplicate entries. In fact, a set has the following characteristics:\n",
    "- Sets are unordered.\n",
    "- Set elements are unique. Duplicate elements are not allowed.\n",
    "- A set itself may be modified, but the elements contained in the set must be of an immutable type."
   ]
  },
  {
   "cell_type": "markdown",
   "metadata": {
    "nbgrader": {
     "grade": false,
     "grade_id": "cell-cd0be17d0d0f9ca2",
     "locked": true,
     "schema_version": 3,
     "solution": false,
     "task": false
    },
    "slideshow": {
     "slide_type": "subslide"
    }
   },
   "source": [
    "## Mutable vs Immutable Objects\n",
    "Simply put, mutable objects can be changed after they are created, while immutable objects can't.\n",
    "\n",
    "**Immutable objects:**\n",
    "\n",
    "int, float, string, tuple, bytes\n",
    "\n",
    "**Mutable objects:**\n",
    "\n",
    "list, dict, set"
   ]
  },
  {
   "cell_type": "markdown",
   "metadata": {
    "nbgrader": {
     "grade": false,
     "grade_id": "cell-e0f0e794854ac2bd",
     "locked": true,
     "schema_version": 3,
     "solution": false,
     "task": false
    },
    "slideshow": {
     "slide_type": "subslide"
    }
   },
   "source": [
    "We now create an object of type int. Note how ``x`` and ``y`` point to the same object. "
   ]
  },
  {
   "cell_type": "code",
   "execution_count": 13,
   "metadata": {
    "slideshow": {
     "slide_type": "fragment"
    }
   },
   "outputs": [
    {
     "name": "stdout",
     "output_type": "stream",
     "text": [
      "9785152, 9785152, 9785152\n"
     ]
    }
   ],
   "source": [
    "x = 10\n",
    "y = x\n",
    "print(f'{id(x)}, {id(y)}, {id(10)}')"
   ]
  },
  {
   "cell_type": "markdown",
   "metadata": {
    "nbgrader": {
     "grade": false,
     "grade_id": "cell-4af69dd79e0c4317",
     "locked": true,
     "schema_version": 3,
     "solution": false,
     "task": false
    },
    "slideshow": {
     "slide_type": "fragment"
    }
   },
   "source": [
    "compare the values"
   ]
  },
  {
   "cell_type": "code",
   "execution_count": 14,
   "metadata": {
    "slideshow": {
     "slide_type": "fragment"
    }
   },
   "outputs": [
    {
     "name": "stdout",
     "output_type": "stream",
     "text": [
      "True\n",
      "True\n",
      "True\n"
     ]
    }
   ],
   "source": [
    "print(x == y) \n",
    "print(x == 10)  \n",
    "print(y == 10)"
   ]
  },
  {
   "cell_type": "markdown",
   "metadata": {
    "nbgrader": {
     "grade": false,
     "grade_id": "cell-1371181471295c83",
     "locked": true,
     "schema_version": 3,
     "solution": false,
     "task": false
    },
    "slideshow": {
     "slide_type": "fragment"
    }
   },
   "source": [
    "compare the objects (= object ids)"
   ]
  },
  {
   "cell_type": "code",
   "execution_count": 15,
   "metadata": {
    "slideshow": {
     "slide_type": "fragment"
    }
   },
   "outputs": [
    {
     "name": "stdout",
     "output_type": "stream",
     "text": [
      "True\n",
      "True\n",
      "True\n"
     ]
    },
    {
     "name": "stderr",
     "output_type": "stream",
     "text": [
      "<>:2: SyntaxWarning: \"is\" with a literal. Did you mean \"==\"?\n",
      "<>:3: SyntaxWarning: \"is\" with a literal. Did you mean \"==\"?\n",
      "<>:2: SyntaxWarning: \"is\" with a literal. Did you mean \"==\"?\n",
      "<>:3: SyntaxWarning: \"is\" with a literal. Did you mean \"==\"?\n",
      "<ipython-input-15-ee9001ecbb30>:2: SyntaxWarning: \"is\" with a literal. Did you mean \"==\"?\n",
      "  print(x is 10)\n",
      "<ipython-input-15-ee9001ecbb30>:3: SyntaxWarning: \"is\" with a literal. Did you mean \"==\"?\n",
      "  print(y is 10)\n"
     ]
    }
   ],
   "source": [
    "print(x is y)\n",
    "print(x is 10)\n",
    "print(y is 10)"
   ]
  },
  {
   "cell_type": "markdown",
   "metadata": {
    "nbgrader": {
     "grade": false,
     "grade_id": "cell-c08172b088502730",
     "locked": true,
     "schema_version": 3,
     "solution": false,
     "task": false
    },
    "slideshow": {
     "slide_type": "subslide"
    }
   },
   "source": [
    "See what happens when we change the value of \"x\":"
   ]
  },
  {
   "cell_type": "code",
   "execution_count": 16,
   "metadata": {
    "slideshow": {
     "slide_type": "fragment"
    }
   },
   "outputs": [
    {
     "name": "stdout",
     "output_type": "stream",
     "text": [
      "9785184, 9785152, 9785152\n"
     ]
    }
   ],
   "source": [
    "x += 1\n",
    "print(f'{id(x)}, {id(y)}, {id(10)}')"
   ]
  },
  {
   "cell_type": "markdown",
   "metadata": {
    "nbgrader": {
     "grade": false,
     "grade_id": "cell-04a2b55cc15cadd0",
     "locked": true,
     "schema_version": 3,
     "solution": false,
     "task": false
    },
    "slideshow": {
     "slide_type": "fragment"
    }
   },
   "source": [
    "compare the values"
   ]
  },
  {
   "cell_type": "code",
   "execution_count": 17,
   "metadata": {
    "slideshow": {
     "slide_type": "fragment"
    }
   },
   "outputs": [
    {
     "name": "stdout",
     "output_type": "stream",
     "text": [
      "False\n",
      "False\n",
      "True\n"
     ]
    }
   ],
   "source": [
    "print(x == y) \n",
    "print(x == 10)\n",
    "print(y == 10)"
   ]
  },
  {
   "cell_type": "markdown",
   "metadata": {
    "nbgrader": {
     "grade": false,
     "grade_id": "cell-38ebab2bb6673ec2",
     "locked": true,
     "schema_version": 3,
     "solution": false,
     "task": false
    },
    "slideshow": {
     "slide_type": "fragment"
    }
   },
   "source": [
    "compare the objects (= object ids)"
   ]
  },
  {
   "cell_type": "code",
   "execution_count": 18,
   "metadata": {
    "slideshow": {
     "slide_type": "fragment"
    }
   },
   "outputs": [
    {
     "name": "stdout",
     "output_type": "stream",
     "text": [
      "False\n",
      "False\n",
      "True\n"
     ]
    },
    {
     "name": "stderr",
     "output_type": "stream",
     "text": [
      "<>:2: SyntaxWarning: \"is\" with a literal. Did you mean \"==\"?\n",
      "<>:3: SyntaxWarning: \"is\" with a literal. Did you mean \"==\"?\n",
      "<>:2: SyntaxWarning: \"is\" with a literal. Did you mean \"==\"?\n",
      "<>:3: SyntaxWarning: \"is\" with a literal. Did you mean \"==\"?\n",
      "<ipython-input-18-ee9001ecbb30>:2: SyntaxWarning: \"is\" with a literal. Did you mean \"==\"?\n",
      "  print(x is 10)\n",
      "<ipython-input-18-ee9001ecbb30>:3: SyntaxWarning: \"is\" with a literal. Did you mean \"==\"?\n",
      "  print(y is 10)\n"
     ]
    }
   ],
   "source": [
    "print(x is y)\n",
    "print(x is 10)\n",
    "print(y is 10)"
   ]
  },
  {
   "cell_type": "markdown",
   "metadata": {
    "nbgrader": {
     "grade": false,
     "grade_id": "cell-137248d39f325bfd",
     "locked": true,
     "schema_version": 3,
     "solution": false,
     "task": false
    },
    "slideshow": {
     "slide_type": "subslide"
    }
   },
   "source": [
    "\"Changing the value\" of an immutable object in fact **creates a new object**! Object 10 was never changed."
   ]
  },
  {
   "cell_type": "markdown",
   "metadata": {
    "nbgrader": {
     "grade": false,
     "grade_id": "cell-f369550e211ba389",
     "locked": true,
     "schema_version": 3,
     "solution": false,
     "task": false
    },
    "slideshow": {
     "slide_type": "subslide"
    }
   },
   "source": [
    "Now compare this to the behaviour of a mutable object, e.g. a list:"
   ]
  },
  {
   "cell_type": "code",
   "execution_count": 19,
   "metadata": {
    "slideshow": {
     "slide_type": "fragment"
    }
   },
   "outputs": [
    {
     "name": "stdout",
     "output_type": "stream",
     "text": [
      "139918158841024, 139918158841024\n"
     ]
    }
   ],
   "source": [
    "first_list = [1, 2, 3]\n",
    "also_first_list = first_list\n",
    "print(f'{id(first_list)}, {id(also_first_list)}')"
   ]
  },
  {
   "cell_type": "markdown",
   "metadata": {
    "nbgrader": {
     "grade": false,
     "grade_id": "cell-5d3582bfbb4991a0",
     "locked": true,
     "schema_version": 3,
     "solution": false,
     "task": false
    },
    "slideshow": {
     "slide_type": "fragment"
    }
   },
   "source": [
    "compare the values"
   ]
  },
  {
   "cell_type": "code",
   "execution_count": 21,
   "metadata": {
    "slideshow": {
     "slide_type": "fragment"
    }
   },
   "outputs": [
    {
     "name": "stdout",
     "output_type": "stream",
     "text": [
      "True\n"
     ]
    }
   ],
   "source": [
    "print(first_list == also_first_list)"
   ]
  },
  {
   "cell_type": "markdown",
   "metadata": {
    "nbgrader": {
     "grade": false,
     "grade_id": "cell-21582ab0d69e17dd",
     "locked": true,
     "schema_version": 3,
     "solution": false,
     "task": false
    },
    "slideshow": {
     "slide_type": "fragment"
    }
   },
   "source": [
    "compare the objects (= object ids)"
   ]
  },
  {
   "cell_type": "code",
   "execution_count": 22,
   "metadata": {
    "slideshow": {
     "slide_type": "fragment"
    }
   },
   "outputs": [
    {
     "name": "stdout",
     "output_type": "stream",
     "text": [
      "True\n"
     ]
    }
   ],
   "source": [
    "print(first_list is also_first_list)"
   ]
  },
  {
   "cell_type": "markdown",
   "metadata": {
    "nbgrader": {
     "grade": false,
     "grade_id": "cell-fa4a366303e529f2",
     "locked": true,
     "schema_version": 3,
     "solution": false,
     "task": false
    },
    "slideshow": {
     "slide_type": "subslide"
    }
   },
   "source": [
    "And see what happens if we change the list (e.g. removing an element):"
   ]
  },
  {
   "cell_type": "code",
   "execution_count": 23,
   "metadata": {
    "slideshow": {
     "slide_type": "fragment"
    }
   },
   "outputs": [
    {
     "name": "stdout",
     "output_type": "stream",
     "text": [
      "[1, 2]\n",
      "139918158841024, 139918158841024\n"
     ]
    }
   ],
   "source": [
    "first_list.pop()\n",
    "print(first_list)\n",
    "print(f'{id(first_list)}, {id(also_first_list)}')"
   ]
  },
  {
   "cell_type": "markdown",
   "metadata": {
    "nbgrader": {
     "grade": false,
     "grade_id": "cell-fab0dd24b781b7ec",
     "locked": true,
     "schema_version": 3,
     "solution": false,
     "task": false
    },
    "slideshow": {
     "slide_type": "fragment"
    }
   },
   "source": [
    "compare the values"
   ]
  },
  {
   "cell_type": "code",
   "execution_count": 24,
   "metadata": {
    "slideshow": {
     "slide_type": "fragment"
    }
   },
   "outputs": [
    {
     "name": "stdout",
     "output_type": "stream",
     "text": [
      "True\n"
     ]
    }
   ],
   "source": [
    "print(first_list == also_first_list)"
   ]
  },
  {
   "cell_type": "markdown",
   "metadata": {
    "nbgrader": {
     "grade": false,
     "grade_id": "cell-e4874fe820525cb8",
     "locked": true,
     "schema_version": 3,
     "solution": false,
     "task": false
    },
    "slideshow": {
     "slide_type": "fragment"
    }
   },
   "source": [
    "compare the objects (= object ids)"
   ]
  },
  {
   "cell_type": "code",
   "execution_count": 28,
   "metadata": {
    "slideshow": {
     "slide_type": "fragment"
    }
   },
   "outputs": [
    {
     "name": "stdout",
     "output_type": "stream",
     "text": [
      "True\n"
     ]
    }
   ],
   "source": [
    "print(first_list is also_first_list)"
   ]
  },
  {
   "cell_type": "markdown",
   "metadata": {
    "nbgrader": {
     "grade": false,
     "grade_id": "cell-b88be5e4df580bd1",
     "locked": true,
     "schema_version": 3,
     "solution": false,
     "task": false
    },
    "slideshow": {
     "slide_type": "subslide"
    }
   },
   "source": [
    "The two lists still point to the same object (same object id). **Both** lists have been affected by the modification!\n",
    "\n",
    "*from: [Blog post](https://medium.com/@meghamohan/mutable-and-immutable-side-of-python-c2145cf72747)*"
   ]
  },
  {
   "cell_type": "code",
   "execution_count": null,
   "metadata": {
    "slideshow": {
     "slide_type": "fragment"
    }
   },
   "outputs": [],
   "source": [
    "print(first_list)\n",
    "print(also_first_list)"
   ]
  },
  {
   "cell_type": "markdown",
   "metadata": {
    "nbgrader": {
     "grade": false,
     "grade_id": "cell-a681f61479681a36",
     "locked": true,
     "schema_version": 3,
     "solution": false,
     "task": false
    },
    "slideshow": {
     "slide_type": "subslide"
    }
   },
   "source": [
    "### Back to sets\n",
    "\n",
    "Let's say you want to collect a list of unique words used in a sentence. This is where a set comes in handy:"
   ]
  },
  {
   "cell_type": "code",
   "execution_count": 27,
   "metadata": {
    "slideshow": {
     "slide_type": "fragment"
    }
   },
   "outputs": [
    {
     "name": "stdout",
     "output_type": "stream",
     "text": [
      "{'my', 'is', 'Jonathan', 'name', 'and'}\n"
     ]
    }
   ],
   "source": [
    "print(set(\"my name is Jonathan and Jonathan is my name\".split()))"
   ]
  },
  {
   "cell_type": "markdown",
   "metadata": {
    "nbgrader": {
     "grade": false,
     "grade_id": "cell-6881c1a0957bb0c5",
     "locked": true,
     "schema_version": 3,
     "solution": false,
     "task": false
    },
    "slideshow": {
     "slide_type": "fragment"
    }
   },
   "source": [
    "**QUESTIONS**\n",
    "\n",
    "* Analyze this statement:\n",
    "  1. What does the function split() do to the sentence?\n",
    "  1. What does the print output look like, if you delete the ``set()`` call?\n",
    "  1. What is the difference between the two outputs?"
   ]
  },
  {
   "cell_type": "code",
   "execution_count": 3,
   "metadata": {
    "nbgrader": {
     "grade": true,
     "grade_id": "cell-22cac42addd3c000",
     "locked": false,
     "points": 0,
     "schema_version": 3,
     "solution": true,
     "task": false
    },
    "slideshow": {
     "slide_type": "skip"
    }
   },
   "outputs": [
    {
     "name": "stdout",
     "output_type": "stream",
     "text": [
      "['my', 'name', 'is', 'Jonathan', 'and', 'Jonathan', 'is', 'my', 'name']\n",
      "{'name', 'is', 'my', 'and', 'Jonathan'}\n"
     ]
    }
   ],
   "source": [
    "print(\"my name is Jonathan and Jonathan is my name\".split())\n",
    "print(set(\"my name is Jonathan and Jonathan is my name\".split()))"
   ]
  },
  {
   "cell_type": "markdown",
   "metadata": {
    "nbgrader": {
     "grade": false,
     "grade_id": "cell-d59e7395c85bee41",
     "locked": true,
     "schema_version": 3,
     "solution": false,
     "task": false
    },
    "slideshow": {
     "slide_type": "subslide"
    }
   },
   "source": [
    "### Set Operations\n",
    "Many of the operations that can be used for Python’s other composite data types don’t make sense for sets. For example, sets can’t be indexed or sliced. However, Python provides a range of operations on set objects that generally mimic the operations that are defined for mathematical sets."
   ]
  },
  {
   "cell_type": "markdown",
   "metadata": {
    "nbgrader": {
     "grade": false,
     "grade_id": "cell-49ab1344d96b79d6",
     "locked": true,
     "schema_version": 3,
     "solution": false,
     "task": false
    },
    "slideshow": {
     "slide_type": "subslide"
    }
   },
   "source": [
    "Recall some of these mathematical set operators and try to guess which operator symbols could be used to implement them. Use the two sets of terms below to experiment with these operators.\n",
    "\n",
    "__TODO:__ find out about Python's set operators (union, intersection, difference)"
   ]
  },
  {
   "cell_type": "code",
   "execution_count": 37,
   "metadata": {
    "nbgrader": {
     "grade": true,
     "grade_id": "cell-15aea90fd9474b2e",
     "locked": false,
     "points": 0,
     "schema_version": 3,
     "solution": true,
     "task": false
    },
    "slideshow": {
     "slide_type": "fragment"
    }
   },
   "outputs": [
    {
     "name": "stdout",
     "output_type": "stream",
     "text": [
      "{'tastatur', 'display', 'monitor', 'computer', 'application', 'window', 'keyboard', 'anwendung', 'fenster', 'mouse'} {'mouse', 'computer'} {'display', 'window', 'keyboard', 'application'}\n"
     ]
    }
   ],
   "source": [
    "english_terms = {\"computer\", \"mouse\", \"keyboard\", \"display\", \"window\", \"application\"}\n",
    "german_terms = {\"computer\", \"mouse\", \"tastatur\", \"monitor\", \"fenster\", \"anwendung\"}\n",
    "\n",
    "### BEGIN SOLUTION\n",
    "union = set(english_terms).union(german_terms)\n",
    "intersect = set(english_terms).intersection(german_terms)\n",
    "difference = set(english_terms).difference(german_terms)\n",
    "\n",
    "print(union, intersect, difference)\n",
    "### END SOLUTION"
   ]
  },
  {
   "cell_type": "markdown",
   "metadata": {
    "nbgrader": {
     "grade": false,
     "grade_id": "cell-832e4448002a413e",
     "locked": true,
     "schema_version": 3,
     "solution": false,
     "task": false
    },
    "slideshow": {
     "slide_type": "slide"
    }
   },
   "source": [
    "<a name=\"comprehension\"></a>\n",
    "## List Comprehension\n",
    "List comprehensions are an advanced Python topic that are really useful to shorten code (whilst usually remaining readable)."
   ]
  },
  {
   "cell_type": "markdown",
   "metadata": {
    "nbgrader": {
     "grade": false,
     "grade_id": "cell-eef5cc192553aa21",
     "locked": true,
     "schema_version": 3,
     "solution": false,
     "task": false
    },
    "slideshow": {
     "slide_type": "subslide"
    }
   },
   "source": [
    "Take a look at the above code and try to explain in words, what it does."
   ]
  },
  {
   "cell_type": "code",
   "execution_count": 29,
   "metadata": {
    "slideshow": {
     "slide_type": "fragment"
    }
   },
   "outputs": [
    {
     "name": "stdout",
     "output_type": "stream",
     "text": [
      "[5, 5, 3, 5, 4, 4, 3]\n"
     ]
    }
   ],
   "source": [
    "sentence = \"the quick brown fox jumps over the lazy dog\"\n",
    "words = sentence.split()\n",
    "word_lengths = []\n",
    "for word in words:\n",
    "    if word != \"the\":\n",
    "        word_lengths.append(len(word))\n",
    "print(word_lengths)"
   ]
  },
  {
   "cell_type": "markdown",
   "metadata": {
    "nbgrader": {
     "grade": false,
     "grade_id": "cell-ea3fa81edd15a7cf",
     "locked": true,
     "schema_version": 3,
     "solution": false,
     "task": false
    },
    "slideshow": {
     "slide_type": "subslide"
    }
   },
   "source": [
    "Next, look at the code below and see how elegantly this can be achieved in a single line (instead of five):"
   ]
  },
  {
   "cell_type": "code",
   "execution_count": 39,
   "metadata": {
    "slideshow": {
     "slide_type": "fragment"
    }
   },
   "outputs": [
    {
     "name": "stdout",
     "output_type": "stream",
     "text": [
      "[5, 5, 3, 5, 4, 4, 3]\n"
     ]
    }
   ],
   "source": [
    "word_lengths = [len(word) for word in sentence.split() if word != \"the\"]\n",
    "print(word_lengths)"
   ]
  },
  {
   "cell_type": "markdown",
   "metadata": {
    "nbgrader": {
     "grade": false,
     "grade_id": "cell-051a7f729e928f34",
     "locked": true,
     "schema_version": 3,
     "solution": false,
     "task": false
    },
    "slideshow": {
     "slide_type": "slide"
    }
   },
   "source": [
    "<a name=\"exercise\"></a>\n",
    "## Wrap-up Exercises\n",
    "\n",
    "1. Write a function ``check_palindrome`` that takes a string as argument and returns ``True`` if the string is a palindrome, else ``False``."
   ]
  },
  {
   "cell_type": "code",
   "execution_count": 3,
   "metadata": {
    "nbgrader": {
     "grade": true,
     "grade_id": "cell-b28e0d42b5bca6ef",
     "locked": false,
     "points": 0,
     "schema_version": 3,
     "solution": true,
     "task": false
    },
    "slideshow": {
     "slide_type": "fragment"
    }
   },
   "outputs": [
    {
     "data": {
      "text/plain": [
       "True"
      ]
     },
     "execution_count": 3,
     "metadata": {},
     "output_type": "execute_result"
    }
   ],
   "source": [
    "### BEGINN SOLUTION\n",
    "def check_palindrome(word):\n",
    "    palindrome = True\n",
    "\n",
    "    for i in range(int(len(word)/2)):\n",
    "        if word[i] != word[i*-1 - 1]:\n",
    "            palindrome = False\n",
    "\n",
    "    return palindrome\n",
    "\n",
    "check_palindrome(\"hausuah\")\n",
    "### END SOLUTION"
   ]
  },
  {
   "cell_type": "markdown",
   "metadata": {
    "nbgrader": {
     "grade": false,
     "grade_id": "cell-13adf74e0ab793d9",
     "locked": true,
     "schema_version": 3,
     "solution": false,
     "task": false
    },
    "slideshow": {
     "slide_type": "fragment"
    }
   },
   "source": [
    "2. List comprehensions can also contain conditions. Loop over the numbers from 2 to 21 (using ``range``) and store only numbers that are multiples of 3 (using ``%``) to the variable ``multiples3``. If unsure, use the Internet to find out about the correct syntax."
   ]
  },
  {
   "cell_type": "code",
   "execution_count": 4,
   "metadata": {
    "nbgrader": {
     "grade": true,
     "grade_id": "cell-d1adfc9dae2374dd",
     "locked": false,
     "points": 0,
     "schema_version": 3,
     "solution": true,
     "task": false
    },
    "slideshow": {
     "slide_type": "fragment"
    }
   },
   "outputs": [
    {
     "data": {
      "text/plain": [
       "[3, 6, 9, 12, 15, 18, 21]"
      ]
     },
     "execution_count": 4,
     "metadata": {},
     "output_type": "execute_result"
    }
   ],
   "source": [
    "### BEGINN SOLUTION\n",
    "multiples3 = [i for i in range(2, 21+1) if i % 3 == 0]\n",
    "multiples3\n",
    "### END SOLUTION"
   ]
  },
  {
   "cell_type": "markdown",
   "metadata": {
    "nbgrader": {
     "grade": false,
     "grade_id": "cell-12b764833ab94291",
     "locked": true,
     "schema_version": 3,
     "solution": false,
     "task": false
    },
    "slideshow": {
     "slide_type": "fragment"
    }
   },
   "source": [
    "3. Write a class ``Rocket``. The ``__init__`` function (without parameters) should set the class variables ``x``, ``y`` and ``z`` to zero. Add a method ``move_up`` that increments the ``z`` value by ``1``.\n",
    "\n",
    "Then, create a fleet of 3 rockets and store them in the list ``space_rockets``. Move the first rocket up and then iterate over the list to print there altitudes."
   ]
  },
  {
   "cell_type": "code",
   "execution_count": 5,
   "metadata": {
    "nbgrader": {
     "grade": true,
     "grade_id": "cell-2e4f344fe717e07f",
     "locked": false,
     "points": 0,
     "schema_version": 3,
     "solution": true,
     "task": false
    },
    "slideshow": {
     "slide_type": "fragment"
    }
   },
   "outputs": [
    {
     "name": "stdout",
     "output_type": "stream",
     "text": [
      "1\n",
      "0\n",
      "0\n"
     ]
    }
   ],
   "source": [
    "### BEGINN SOLUTION\n",
    "class Rocket():\n",
    "    def __init__(self):\n",
    "        self. x, self.y, self.z = 0, 0, 0\n",
    "    \n",
    "    def up(self):\n",
    "        self.z += 1\n",
    "\n",
    "space_rockets = [Rocket() for i in range(3)]\n",
    "space_rockets[0].up()\n",
    "\n",
    "for rocket in space_rockets:\n",
    "    print(rocket.z)\n",
    "### END SOLUTION"
   ]
  },
  {
   "cell_type": "markdown",
   "metadata": {
    "nbgrader": {
     "grade": false,
     "grade_id": "cell-6996fc5562349981",
     "locked": true,
     "schema_version": 3,
     "solution": false,
     "task": false
    },
    "slideshow": {
     "slide_type": "slide"
    }
   },
   "source": [
    "# Inspriation/Further Reading\n",
    "- [learnpython](https://www.learnpython.org/)\n",
    "- [Classes](https://www.w3schools.com/python/python_classes.asp)\n",
    "- [Default arguments](https://www.geeksforgeeks.org/default-arguments-in-python/)\n",
    "- [Dictionaries](https://realpython.com/python-dicts/)\n",
    "- [Sets](https://realpython.com/python-sets/)"
   ]
  }
 ],
 "metadata": {
  "celltoolbar": "Create Assignment",
  "kernelspec": {
   "display_name": "Python 3",
   "language": "python",
   "name": "python3"
  },
  "language_info": {
   "codemirror_mode": {
    "name": "ipython",
    "version": 3
   },
   "file_extension": ".py",
   "mimetype": "text/x-python",
   "name": "python",
   "nbconvert_exporter": "python",
   "pygments_lexer": "ipython3",
   "version": "3.8.5"
  },
  "rise": {
   "enable_chalkboard": true
  }
 },
 "nbformat": 4,
 "nbformat_minor": 2
}
